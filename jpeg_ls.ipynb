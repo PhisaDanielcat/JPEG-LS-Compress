{
 "cells": [
  {
   "attachments": {},
   "cell_type": "markdown",
   "metadata": {},
   "source": [
    "## Golomb编码\n",
    "对8bit图,MAXVAL=127,RANGE=128,bpp=8,qbpp=8,LIMIT=32"
   ]
  },
  {
   "cell_type": "code",
   "execution_count": 77,
   "metadata": {},
   "outputs": [],
   "source": [
    "def bin8(num):\n",
    "    outnum = bin(num)[2:]\n",
    "    while(len(outnum)!=8):\n",
    "        outnum = '0' + outnum\n",
    "    return outnum\n",
    "\n",
    "def one_element_coding(num):\n",
    "    outnum = '0' * num + '1'\n",
    "    return outnum\n",
    "\n",
    "def golomb_coding(MErrval,k,LIMIT=32,qbpp=8):\n",
    "    MErrval_R_k = MErrval>>k\n",
    "    outstr = ''\n",
    "    if MErrval_R_k < LIMIT-qbpp-1:\n",
    "        outstr+=one_element_coding(MErrval_R_k)\n",
    "        outstr+=bin8(MErrval)[-k:]\n",
    "    else:\n",
    "        outstr+=one_element_coding(LIMIT-qbpp-1)\n",
    "        outstr+=bin8(MErrval-1)[-qbpp:]\n",
    "    return outstr\n",
    "\n",
    "def golomb_decoding(outstr,k,LIMIT=32,qbpp=8):\n",
    "    pass"
   ]
  },
  {
   "attachments": {},
   "cell_type": "markdown",
   "metadata": {},
   "source": [
    "## 游程编码"
   ]
  },
  {
   "cell_type": "code",
   "execution_count": null,
   "metadata": {},
   "outputs": [],
   "source": []
  },
  {
   "attachments": {},
   "cell_type": "markdown",
   "metadata": {},
   "source": [
    "## 总程序"
   ]
  },
  {
   "attachments": {},
   "cell_type": "markdown",
   "metadata": {},
   "source": [
    "初始化变量和变量组"
   ]
  },
  {
   "cell_type": "code",
   "execution_count": 78,
   "metadata": {},
   "outputs": [],
   "source": [
    "# for 8 bits picture\n",
    "MAXVAL=255\n",
    "RANGE=256\n",
    "bpp=8\n",
    "qbpp=8\n",
    "LIMIT=32\n",
    "MAX_C=127\n",
    "MIN_C=-128\n",
    "\n",
    "# A，N从0到366，B，C从0到364，Nn从365到366，A初始化为全4，其余初始化都为全0\n",
    "A = [4 for _ in range(366)]\n",
    "B = [0 for _ in range(364)]\n",
    "C = [0 for _ in range(364)]\n",
    "N = [0 for _ in range(366)]\n",
    "Nn= {365:0,366:0}\n",
    "\n",
    "RUNcnt = 0\n",
    "RUNindex = 0\n",
    "\n",
    "J = [0, 0, 0, 0, 1, 1, 1, 1, 2, 2, 2, 2, 3, 3, 3, 3, 4, 4, 5, 5, 6, 6, 7, 7, 8, 9, 10, 11, 12, 13, 14, 15]\n",
    "\n",
    "# pic(index starts from 1)\n",
    "# 0     0       90      74\n",
    "# 68    50      43      205\n",
    "# 64    145     145     145\n",
    "# 100   145     145     145\n",
    "\n",
    "origin_pic = [[0,0,90,74],\n",
    "[68,50,43,205],\n",
    "[64,145,145,145],\n",
    "[100,145,145,145]]"
   ]
  },
  {
   "attachments": {},
   "cell_type": "markdown",
   "metadata": {},
   "source": [
    "自定义函数"
   ]
  },
  {
   "cell_type": "code",
   "execution_count": 85,
   "metadata": {},
   "outputs": [],
   "source": [
    "def reconstruction_pic(origin_pic):\n",
    "    expand_pic = [[0 for _ in range(len(origin_pic[0])+2)] for _ in range(len(origin_pic)+1)]\n",
    "    for i in range(len(origin_pic)):\n",
    "        for j in range(len(origin_pic[0])):\n",
    "            expand_pic[i+1][j+1]=origin_pic[i][j]\n",
    "    \n",
    "    for i in range(len(origin_pic)-1):\n",
    "        expand_pic[i+2][0]=origin_pic[i][0]\n",
    "        expand_pic[i+1][len(origin_pic[0])+1]=origin_pic[i][len(origin_pic[0])-1]\n",
    "    return expand_pic\n",
    "\n",
    "def get_pixels(expand_pic,hang_index,lie_index):\n",
    "    _hang_index = hang_index+1\n",
    "    _lie_index = lie_index+1\n",
    "\n",
    "    x = expand_pic[_hang_index     ][_lie_index      ]\n",
    "    a = expand_pic[_hang_index     ][_lie_index    - 1  ]\n",
    "    b = expand_pic[_hang_index  -1 ][_lie_index    ]\n",
    "    c = expand_pic[_hang_index - 1 ][_lie_index   -1 ]\n",
    "    d = expand_pic[_hang_index -1  ][_lie_index  +1  ]\n",
    "    return x,a,b,c,d\n",
    "\n",
    "def get_gradient(a,b,c,d):\n",
    "    D1 = d-b\n",
    "    D2 = b-c\n",
    "    D3 = c-a\n",
    "    return D1,D2,D3\n",
    "\n",
    "def mode_choose(D1,D2,D3):\n",
    "    '''\n",
    "    return mode = 0 : run mode\n",
    "    return mode = 1 : regular mode\n",
    "    '''\n",
    "    if D1==0 and D2==0 and D3==0:\n",
    "        mode = 0\n",
    "    else:\n",
    "        mode = 1\n",
    "    return mode\n",
    "\n"
   ]
  },
  {
   "attachments": {},
   "cell_type": "markdown",
   "metadata": {},
   "source": [
    "regular mode functions"
   ]
  },
  {
   "cell_type": "code",
   "execution_count": 99,
   "metadata": {},
   "outputs": [],
   "source": [
    "def quantinize(D):\n",
    "    if D<=-21:\n",
    "        Q=-4\n",
    "    elif D<=-7:\n",
    "        Q=-3\n",
    "    elif D<=-3:\n",
    "        Q=-2\n",
    "    elif D<0:\n",
    "        Q=-1\n",
    "    elif D==0:\n",
    "        Q=0\n",
    "    elif D<=3:\n",
    "        Q=1\n",
    "    elif D<=7:\n",
    "        Q=2\n",
    "    elif D<=21:\n",
    "        Q=3\n",
    "    else:\n",
    "        Q=4\n",
    "    return Q\n",
    "\n",
    "def mapping_and_sign(Q1,Q2,Q3):\n",
    "\n",
    "    if Q1<0 or (Q1==0 and Q2<0) or (Q1==0 and Q2==0 and Q3<0):\n",
    "        SIGN = -1\n",
    "        Q1,Q2,Q3=-Q1,-Q2,-Q3\n",
    "    else:\n",
    "        SIGN = 1\n",
    "    Q = 81*Q1+9*Q2+Q3\n",
    "    return Q,SIGN"
   ]
  },
  {
   "cell_type": "code",
   "execution_count": null,
   "metadata": {},
   "outputs": [],
   "source": [
    "if __name__ == \"__main__\":\n",
    "\n",
    "    # for 8 bits picture\n",
    "    MAXVAL=255\n",
    "    RANGE=256\n",
    "    bpp=8\n",
    "    qbpp=8\n",
    "    LIMIT=32\n",
    "    MAX_C=127\n",
    "    MIN_C=-128\n",
    "\n",
    "    # A，N从0到366，B，C从0到364，Nn从365到366，A初始化为全4，其余初始化都为全0\n",
    "    A = [4 for _ in range(366)]\n",
    "    B = [0 for _ in range(364)]\n",
    "    C = [0 for _ in range(364)]\n",
    "    N = [0 for _ in range(366)]\n",
    "    Nn= {365:0,366:0}\n",
    "\n",
    "    RUNcnt = 0\n",
    "    RUNindex = 0\n",
    "\n",
    "    J = [0, 0, 0, 0, 1, 1, 1, 1, 2, 2, 2, 2, 3, 3, 3, 3, 4, 4, 5, 5, 6, 6, 7, 7, 8, 9, 10, 11, 12, 13, 14, 15]\n",
    "\n",
    "    # pic(index starts from 1)\n",
    "    # 0     0       90      74\n",
    "    # 68    50      43      205\n",
    "    # 64    145     145     145\n",
    "    # 100   145     145     145\n",
    "\n",
    "    origin_pic = [[0,0,90,74],\n",
    "    [68,50,43,205],\n",
    "    [64,145,145,145],\n",
    "    [100,145,145,145]]\n",
    "\n",
    "    expand_pic = reconstruction_pic(origin_pic)\n",
    "\n",
    "    for i in range(4):\n",
    "        for j in range(4):\n",
    "            x,a,b,c,d = get_pixels(expand_pic, i,j)\n",
    "            D1,D2,D3 = get_gradient(x,a,b,c,d)\n",
    "            mode = mode_choose(D1,D2,D3)\n",
    "\n",
    "            if mode==1:#regular mode\n",
    "                \n"
   ]
  },
  {
   "attachments": {},
   "cell_type": "markdown",
   "metadata": {},
   "source": []
  }
 ],
 "metadata": {
  "kernelspec": {
   "display_name": "compre",
   "language": "python",
   "name": "python3"
  },
  "language_info": {
   "codemirror_mode": {
    "name": "ipython",
    "version": 3
   },
   "file_extension": ".py",
   "mimetype": "text/x-python",
   "name": "python",
   "nbconvert_exporter": "python",
   "pygments_lexer": "ipython3",
   "version": "3.11.2"
  },
  "orig_nbformat": 4
 },
 "nbformat": 4,
 "nbformat_minor": 2
}
